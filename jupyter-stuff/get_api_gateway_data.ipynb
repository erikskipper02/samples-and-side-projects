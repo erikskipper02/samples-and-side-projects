{
  "nbformat": 4,
  "nbformat_minor": 0,
  "metadata": {
    "colab": {
      "name": "Untitled1.ipynb",
      "provenance": []
    },
    "kernelspec": {
      "name": "python3",
      "display_name": "Python 3"
    },
    "language_info": {
      "name": "python"
    }
  },
  "cells": [
    {
      "cell_type": "code",
      "metadata": {
        "colab": {
          "base_uri": "https://localhost:8080/"
        },
        "id": "KSjPPm1DjDd_",
        "outputId": "f1a97f8f-b887-4c3f-afd5-e86d066a7475"
      },
      "source": [
        "import requests\n",
        "\n",
        "url = \"https://ftf57sx3e3.execute-api.us-east-1.amazonaws.com/default/my_stonks_function\"\n",
        "\n",
        "headers = {\n",
        "    'x-api-key': \"\",\n",
        "    # 'User-Agent': \"PostmanRuntime/7.15.0\",\n",
        "    # 'Accept': \"*/*\",\n",
        "    # 'Cache-Control': \"no-cache\",\n",
        "    # 'Postman-Token': \"\",\n",
        "    # 'Host': \"ftf57sx3e3.execute-api.us-east-1.amazonaws.com\",\n",
        "    # 'accept-encoding': \"gzip, deflate\",\n",
        "    # 'Connection': \"keep-alive\",\n",
        "    #'cache-control': \"no-cache\"\n",
        "    }\n",
        "\n",
        "response = requests.request(\"GET\", url, headers=headers)\n",
        "\n",
        "print(response.text)"
      ],
      "execution_count": null,
      "outputs": [
        {
          "output_type": "stream",
          "text": [
            "\"[{\\\"Ticker\\\": \\\"GME\\\", \\\"Company\\\": \\\"GameStop\\\", \\\"Price\\\": 420}, {\\\"Ticker\\\": \\\"PLTR\\\", \\\"Price\\\": 69, \\\"Company\\\": \\\"Palantir\\\"}]\"\n"
          ],
          "name": "stdout"
        }
      ]
    },
    {
      "cell_type": "code",
      "metadata": {
        "colab": {
          "base_uri": "https://localhost:8080/"
        },
        "id": "XjSnK7axjF6w",
        "outputId": "9fbdf735-c07e-42c3-d47e-2c623a98ce60"
      },
      "source": [
        "import requests\n",
        "\n",
        "url = \"https://ftf57sx3e3.execute-api.us-east-1.amazonaws.com/default/my_stonks_function\"\n",
        "\n",
        "headers = {\n",
        "    'x-api-key': \"\",\n",
        "    }\n",
        "\n",
        "response = requests.get(url, headers=headers)\n",
        "\n",
        "print(response.text)"
      ],
      "execution_count": null,
      "outputs": [
        {
          "output_type": "stream",
          "text": [
            "[{\"Ticker\": \"GME\", \"Company\": \"GameStop\", \"Price\": 420}, {\"Ticker\": \"PLTR\", \"Price\": 69, \"Company\": \"Palantir\"}]\n"
          ],
          "name": "stdout"
        }
      ]
    },
    {
      "cell_type": "code",
      "metadata": {
        "id": "Wl393Y_TjmFj"
      },
      "source": [
        "data_string = response.text"
      ],
      "execution_count": null,
      "outputs": []
    },
    {
      "cell_type": "code",
      "metadata": {
        "id": "7MlBvUk6jwS9"
      },
      "source": [
        "import json\n",
        "data = json.loads(data_string)"
      ],
      "execution_count": null,
      "outputs": []
    },
    {
      "cell_type": "code",
      "metadata": {
        "colab": {
          "base_uri": "https://localhost:8080/"
        },
        "id": "PHqoeZVekpzl",
        "outputId": "e34124b5-f82a-4429-e60c-db9c02a2678c"
      },
      "source": [
        "type(data_string)"
      ],
      "execution_count": null,
      "outputs": [
        {
          "output_type": "execute_result",
          "data": {
            "text/plain": [
              "str"
            ]
          },
          "metadata": {
            "tags": []
          },
          "execution_count": 4
        }
      ]
    },
    {
      "cell_type": "code",
      "metadata": {
        "colab": {
          "base_uri": "https://localhost:8080/"
        },
        "id": "4z6K6NnhlXvb",
        "outputId": "894cba4a-f3f4-4f84-e623-c7b52d329ba1"
      },
      "source": [
        "type(data)"
      ],
      "execution_count": null,
      "outputs": [
        {
          "output_type": "execute_result",
          "data": {
            "text/plain": [
              "list"
            ]
          },
          "metadata": {
            "tags": []
          },
          "execution_count": 5
        }
      ]
    },
    {
      "cell_type": "code",
      "metadata": {
        "colab": {
          "base_uri": "https://localhost:8080/"
        },
        "id": "Hhm0pc5Nla-P",
        "outputId": "bfb160a0-c434-4196-e54b-e78571e52a89"
      },
      "source": [
        "sum = 0\n",
        "n = 0 \n",
        "for item in data:\n",
        "  sum += item['Price']\n",
        "  n += 1\n",
        "\n",
        "print(sum/n)"
      ],
      "execution_count": null,
      "outputs": [
        {
          "output_type": "stream",
          "text": [
            "244.5\n"
          ],
          "name": "stdout"
        }
      ]
    }
  ]
}