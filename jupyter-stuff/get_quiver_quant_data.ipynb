{
  "nbformat": 4,
  "nbformat_minor": 0,
  "metadata": {
    "colab": {
      "name": "get_quiver_quant_data_new.ipynb",
      "provenance": [],
      "collapsed_sections": [],
      "toc_visible": true
    },
    "kernelspec": {
      "name": "python3",
      "display_name": "Python 3"
    }
  },
  "cells": [
    {
      "cell_type": "markdown",
      "metadata": {
        "id": "k6ilfV3TE98w"
      },
      "source": [
        "# Import librariers:"
      ]
    },
    {
      "cell_type": "code",
      "metadata": {
        "id": "dp7imijBJGW2"
      },
      "source": [
        "import requests\r\n",
        "import json\r\n",
        "import pandas as pd"
      ],
      "execution_count": 1,
      "outputs": []
    },
    {
      "cell_type": "markdown",
      "metadata": {
        "id": "ABr25iwV5Al1"
      },
      "source": [
        "# Add Authorization Token here:"
      ]
    },
    {
      "cell_type": "code",
      "metadata": {
        "id": "9JvCPO8KL3Ku"
      },
      "source": [
        "url = \"https://api.quiverquant.com/beta/historical/wallstreetbets/\"\r\n",
        "headers = {'accept': 'application/json',\r\n",
        "'X-CSRFToken': 'TyTJwjuEC7VV7mOqZ622haRaaUr0x0Ng4nrwSRFKQs7vdoBcJlK9qjAS69ghzhFu',\r\n",
        "'Authorization': 'Token <buy-token-from-quiver-quant-and-insert-it-here>'}"
      ],
      "execution_count": 2,
      "outputs": []
    },
    {
      "cell_type": "markdown",
      "metadata": {
        "id": "3oKzbF1B447K"
      },
      "source": [
        "# Add meme_tickers here or get tickers from S&P 500:"
      ]
    },
    {
      "cell_type": "code",
      "metadata": {
        "id": "IteCcbQMLbym"
      },
      "source": [
        "meme_tickers = ['GME', 'AMC', 'TSLA','PLTR','RKT']"
      ],
      "execution_count": 3,
      "outputs": []
    },
    {
      "cell_type": "code",
      "metadata": {
        "id": "eRmNgVRpA2zd"
      },
      "source": [
        "# meme_tickers = ['GME', 'AMC', 'TSLA', 'PLTR', 'RKT', 'AAPL', 'RIOT', 'NIO', 'BB', 'NOK', 'RBLX', 'APHA', 'GOEV', 'MVIS', 'MARA', 'GLD', 'AMD', 'TLRY', 'QQQ', 'DKNG', 'DIS', 'AMZN', 'SNDL', 'PENN', 'MCD']"
      ],
      "execution_count": null,
      "outputs": []
    },
    {
      "cell_type": "code",
      "metadata": {
        "id": "d8FfXCJD6pZS"
      },
      "source": [
        "table = pd.read_html('https://en.wikipedia.org/wiki/List_of_S%26P_500_companies')"
      ],
      "execution_count": 3,
      "outputs": []
    },
    {
      "cell_type": "code",
      "metadata": {
        "id": "w2Tk2Z2t4oR5"
      },
      "source": [
        "table"
      ],
      "execution_count": null,
      "outputs": []
    },
    {
      "cell_type": "code",
      "metadata": {
        "id": "ivjmd8Te3Lf-"
      },
      "source": [
        "df_s_and_p = table[0]"
      ],
      "execution_count": 5,
      "outputs": []
    },
    {
      "cell_type": "code",
      "metadata": {
        "id": "AnxeCsn73SCu"
      },
      "source": [
        "df_s_and_p"
      ],
      "execution_count": null,
      "outputs": []
    },
    {
      "cell_type": "code",
      "metadata": {
        "id": "3xaTWZEo63NI"
      },
      "source": [
        "df_symbols_only = df_s_and_p['Symbol']"
      ],
      "execution_count": 7,
      "outputs": []
    },
    {
      "cell_type": "code",
      "metadata": {
        "id": "5SYFmYjY6_QX"
      },
      "source": [
        "df_symbols_only"
      ],
      "execution_count": null,
      "outputs": []
    },
    {
      "cell_type": "markdown",
      "metadata": {
        "id": "1ZfeJqgpFEtg"
      },
      "source": [
        "# Initialize empty array:"
      ]
    },
    {
      "cell_type": "code",
      "metadata": {
        "id": "g22nI9V6MLKY"
      },
      "source": [
        "meme_data_frames = []"
      ],
      "execution_count": 4,
      "outputs": []
    },
    {
      "cell_type": "markdown",
      "metadata": {
        "id": "Euv8EN1NFegZ"
      },
      "source": [
        "# Secret sauce:"
      ]
    },
    {
      "cell_type": "code",
      "metadata": {
        "id": "0U4UTJ7SLmO1"
      },
      "source": [
        "for i in meme_tickers:\r\n",
        "  full_url = url + i\r\n",
        "  r = requests.get(full_url, headers=headers)\r\n",
        "  data = json.loads(r.content)\r\n",
        "  df = pd.json_normalize(data)\r\n",
        "  meme_data_frames.append(df)"
      ],
      "execution_count": 5,
      "outputs": []
    },
    {
      "cell_type": "code",
      "metadata": {
        "id": "eeqUTj-XEPC9"
      },
      "source": [
        "df = pd.concat(meme_data_frames)"
      ],
      "execution_count": 6,
      "outputs": []
    },
    {
      "cell_type": "markdown",
      "metadata": {
        "id": "8JcptABTEftF"
      },
      "source": [
        "# DataFrame of all meme_tickers:"
      ]
    },
    {
      "cell_type": "code",
      "metadata": {
        "id": "R-IjyuM2EZh9"
      },
      "source": [
        "df"
      ],
      "execution_count": null,
      "outputs": []
    },
    {
      "cell_type": "markdown",
      "metadata": {
        "id": "xd3L9ygCExng"
      },
      "source": [
        "# Export DataFrame to CSV on Google Drive"
      ]
    },
    {
      "cell_type": "code",
      "metadata": {
        "colab": {
          "base_uri": "https://localhost:8080/"
        },
        "id": "kL5ZQctc5LSu",
        "outputId": "b015e1c2-32d4-494d-cd8c-01d8ef5cb78c"
      },
      "source": [
        "from google.colab import drive\r\n",
        "drive.mount('drive')\r\n",
        "df.to_csv('data_new_ss.csv')\r\n",
        "!cp data_new_ss.csv \"drive/My Drive/\""
      ],
      "execution_count": 8,
      "outputs": [
        {
          "output_type": "stream",
          "text": [
            "Drive already mounted at drive; to attempt to forcibly remount, call drive.mount(\"drive\", force_remount=True).\n"
          ],
          "name": "stdout"
        }
      ]
    },
    {
      "cell_type": "markdown",
      "metadata": {
        "id": "e5b6IBQaQYBv"
      },
      "source": [
        "# Type in the ticker of a meme_stock here:"
      ]
    },
    {
      "cell_type": "code",
      "metadata": {
        "id": "NmJ0lks6QmKp"
      },
      "source": [
        "meme_stock = \"GME\""
      ],
      "execution_count": null,
      "outputs": []
    },
    {
      "cell_type": "markdown",
      "metadata": {
        "id": "erz-Y9HKTh_c"
      },
      "source": [
        "# Type in the date you want to start from here:"
      ]
    },
    {
      "cell_type": "markdown",
      "metadata": {
        "id": "4GH84l13T30B"
      },
      "source": [
        "For example, if you want data starting from March 1, 2021, type in:"
      ]
    },
    {
      "cell_type": "code",
      "metadata": {
        "id": "WkVxWuMNThWb"
      },
      "source": [
        "date = \"2021-02-14\""
      ],
      "execution_count": 9,
      "outputs": []
    },
    {
      "cell_type": "markdown",
      "metadata": {
        "id": "GwHdDjYAGTw7"
      },
      "source": [
        "# Get mean_mentions of meme_stock"
      ]
    },
    {
      "cell_type": "code",
      "metadata": {
        "id": "0wkFaILJFo7F"
      },
      "source": [
        "mean_mentions = df.loc[(df['Ticker'] == meme_stock) & (df['Date'] >= date), 'Mentions'].mean()"
      ],
      "execution_count": null,
      "outputs": []
    },
    {
      "cell_type": "code",
      "metadata": {
        "id": "a0Dv_BqAL_5I"
      },
      "source": [
        "mean_mentions"
      ],
      "execution_count": null,
      "outputs": []
    },
    {
      "cell_type": "markdown",
      "metadata": {
        "id": "WuHzXn2QRMD7"
      },
      "source": [
        "# Get mean_sentiment of meme_stock"
      ]
    },
    {
      "cell_type": "code",
      "metadata": {
        "id": "5VQoU9vGRAgk"
      },
      "source": [
        "mean_sentiment = df.loc[(df['Ticker'] == meme_stock) & (df['Date'] >= date), 'Sentiment'].mean()"
      ],
      "execution_count": null,
      "outputs": []
    },
    {
      "cell_type": "code",
      "metadata": {
        "id": "NHvaRd1MRWij"
      },
      "source": [
        "mean_sentiment"
      ],
      "execution_count": null,
      "outputs": []
    },
    {
      "cell_type": "markdown",
      "metadata": {
        "id": "wlwJ6E7nFQYo"
      },
      "source": [
        "# Question 2. A."
      ]
    },
    {
      "cell_type": "code",
      "metadata": {
        "id": "JaLxLtdyCHns"
      },
      "source": [
        "sp_meme_stocks = df.loc[(df['Mentions'] >= 1) & (df['Date'] >= date), ['Ticker','Mentions','Sentiment']]"
      ],
      "execution_count": 41,
      "outputs": []
    },
    {
      "cell_type": "code",
      "metadata": {
        "id": "XjV7kKnLCJ-b"
      },
      "source": [
        "sp_meme_stocks"
      ],
      "execution_count": null,
      "outputs": []
    },
    {
      "cell_type": "code",
      "metadata": {
        "id": "Lc0WUmyJDJHd"
      },
      "source": [
        "df_sp_meme_stocks = pd.DataFrame(sp_meme_stocks)"
      ],
      "execution_count": 43,
      "outputs": []
    },
    {
      "cell_type": "code",
      "metadata": {
        "id": "ikmUStvbDrwK"
      },
      "source": [
        "df_sp_meme_stocks"
      ],
      "execution_count": null,
      "outputs": []
    },
    {
      "cell_type": "code",
      "metadata": {
        "id": "vjpAHWFSCjZc"
      },
      "source": [
        "df_sp_meme_stocks_no_dupes = df_sp_meme_stocks.drop_duplicates(subset=['Ticker'])"
      ],
      "execution_count": 45,
      "outputs": []
    },
    {
      "cell_type": "code",
      "metadata": {
        "id": "Ji4UnMH7CsJ4"
      },
      "source": [
        "df_sp_meme_stocks_no_dupes"
      ],
      "execution_count": null,
      "outputs": []
    },
    {
      "cell_type": "code",
      "metadata": {
        "id": "XoDKFUMAEO_b"
      },
      "source": [
        "number_of_sp_meme_stocks = df_sp_meme_stocks_no_dupes.shape[0]"
      ],
      "execution_count": 47,
      "outputs": []
    },
    {
      "cell_type": "code",
      "metadata": {
        "id": "jU3tBuG7EcYs"
      },
      "source": [
        "number_of_sp_meme_stocks"
      ],
      "execution_count": null,
      "outputs": []
    },
    {
      "cell_type": "code",
      "metadata": {
        "id": "RDBdczDWByP5"
      },
      "source": [
        "sp_meme_stocks_mean_sentiment = df.loc[(df['Mentions'] >= 1) & (df['Date'] >= date), 'Sentiment'].mean()"
      ],
      "execution_count": 52,
      "outputs": []
    },
    {
      "cell_type": "code",
      "metadata": {
        "id": "oxEyMVHfB958"
      },
      "source": [
        "sp_meme_stocks_mean_sentiment"
      ],
      "execution_count": null,
      "outputs": []
    },
    {
      "cell_type": "markdown",
      "metadata": {
        "id": "ad21cMQvH0Pp"
      },
      "source": [
        "# Question 2. B."
      ]
    },
    {
      "cell_type": "code",
      "metadata": {
        "id": "NXIDMctFJ4Wb"
      },
      "source": [
        "meme_stock = \"GME\"\r\n",
        "mean_mentions = df.loc[(df['Ticker'] == meme_stock) & (df['Date'] >= date), 'Mentions'].mean()\r\n",
        "mean_mentions"
      ],
      "execution_count": null,
      "outputs": []
    },
    {
      "cell_type": "code",
      "metadata": {
        "id": "zaT2AblhKFKb"
      },
      "source": [
        "meme_stock = \"AMC\"\r\n",
        "mean_mentions = df.loc[(df['Ticker'] == meme_stock) & (df['Date'] >= date), 'Mentions'].mean()\r\n",
        "mean_mentions"
      ],
      "execution_count": null,
      "outputs": []
    },
    {
      "cell_type": "code",
      "metadata": {
        "id": "agf_Pm2lKFrs"
      },
      "source": [
        "meme_stock = \"TSLA\"\r\n",
        "mean_mentions = df.loc[(df['Ticker'] == meme_stock) & (df['Date'] >= date), 'Mentions'].mean()\r\n",
        "mean_mentions"
      ],
      "execution_count": null,
      "outputs": []
    },
    {
      "cell_type": "code",
      "metadata": {
        "id": "o85-lS2tKGNV"
      },
      "source": [
        "meme_stock = \"PLTR\"\r\n",
        "mean_mentions = df.loc[(df['Ticker'] == meme_stock) & (df['Date'] >= date), 'Mentions'].mean()\r\n",
        "mean_mentions"
      ],
      "execution_count": null,
      "outputs": []
    },
    {
      "cell_type": "code",
      "metadata": {
        "id": "zdKvBL9LKG2a"
      },
      "source": [
        "meme_stock = \"RKT\"\r\n",
        "mean_mentions = df.loc[(df['Ticker'] == meme_stock) & (df['Date'] >= date), 'Mentions'].mean()\r\n",
        "mean_mentions"
      ],
      "execution_count": null,
      "outputs": []
    }
  ]
}